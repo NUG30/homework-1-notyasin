{
 "cells": [
  {
   "cell_type": "markdown",
   "metadata": {
    "colab_type": "text",
    "id": "view-in-github"
   },
   "source": [
    "<a href=\"https://colab.research.google.com/github/NUG30/MathML-HW1-template/blob/main/Assignment1.ipynb\" target=\"_parent\"><img src=\"https://colab.research.google.com/assets/colab-badge.svg\" alt=\"Open In Colab\"/></a>"
   ]
  },
  {
   "cell_type": "markdown",
   "metadata": {
    "id": "6cRdXGYzOlil"
   },
   "source": [
    "# Homework 1: Introduction to Python and NumPy\n",
    "\n",
    "In this homework, we will learn to do some basic linear algebra (and other numeric) computations using the Python programming language and the NumPy library. First, we want to _import_ the NumPy and Matplotlib libraries, which we will use throughout the homework. You must execute the following code block before you execute any other code in this file."
   ]
  },
  {
   "cell_type": "code",
   "execution_count": 151,
   "metadata": {
    "id": "VW0xyjK3Rwj1"
   },
   "outputs": [],
   "source": [
    "import numpy as np\n",
    "import matplotlib.pyplot as plt"
   ]
  },
  {
   "cell_type": "markdown",
   "metadata": {
    "id": "pNoAykUSQj74"
   },
   "source": [
    "## Example 1: adding two matrices\n",
    "In linear algebra, you learned that adding matrices is easy. To add a matrix $A$ and $B$, you just perform addition component-wise. You cannot, however, add \n",
    "two matrices of different dimensions.\n",
    "\n",
    "In NumPy, matrices are represented as `numpy.array` (for those familiar with computer programming, this name might be misleading). Let us create a $2 \\times 3$ matrix in NumPy as an example:"
   ]
  },
  {
   "cell_type": "code",
   "execution_count": 2,
   "metadata": {
    "colab": {
     "base_uri": "https://localhost:8080/",
     "height": 57
    },
    "id": "2Metmv13RVE0",
    "outputId": "39786315-ca21-4294-c744-ae540b9b5321"
   },
   "outputs": [
    {
     "name": "stdout",
     "output_type": "stream",
     "text": [
      "3\n",
      "[1. 1. 1.]\n",
      "[[1. 2. 3.]\n",
      " [4. 5. 6.]\n",
      " [1. 1. 1.]]\n"
     ]
    }
   ],
   "source": [
    "mat = np.array([[1, 2, 3],\n",
    "                [4, 5, 6]])\n",
    "k = np.array([[1, 2, 3],\n",
    "              [4, 5, 6]])\n",
    "l = len(mat[0])\n",
    "print(l)\n",
    "mat2 = np.ones(shape=l)\n",
    "print(mat2)\n",
    "\n",
    "result = np.vstack((mat, mat2))\n",
    "print(result)"
   ]
  },
  {
   "cell_type": "code",
   "execution_count": 4,
   "metadata": {},
   "outputs": [
    {
     "name": "stdout",
     "output_type": "stream",
     "text": [
      "[[ 1.72723371e-077 -2.32036295e+077  1.48219694e-323]\n",
      " [ 0.00000000e+000  0.00000000e+000  4.17201348e-309]]\n",
      "[[0. 0.]\n",
      " [0. 0.]\n",
      " [0. 0.]]\n"
     ]
    }
   ],
   "source": [
    "M = np.empty(mat.shape)\n",
    "n = np.zeros(shape=(3,2))\n",
    "print(M)\n",
    "print(n)\n"
   ]
  },
  {
   "cell_type": "markdown",
   "metadata": {
    "id": "Ni_Y0wQ3R9kZ"
   },
   "source": [
    "Try changing the dimensions of the matrix and add more (or remove some) elements to the matrix above!"
   ]
  },
  {
   "cell_type": "markdown",
   "metadata": {
    "id": "tJb1n1cRSI0x"
   },
   "source": [
    "Next, we move on to adding two matrices. We want to add each component of the matrices one by one, so we use a _loop_ to accomplish it. "
   ]
  },
  {
   "cell_type": "code",
   "execution_count": 152,
   "metadata": {
    "id": "h7ampMjdSHAH"
   },
   "outputs": [],
   "source": [
    "def matrix_add(A, B):\n",
    "  # create a new array with the same dimensions to hold the result\n",
    "  M = np.empty(A.shape)\n",
    "  # get the height of the array\n",
    "  m = len(A)\n",
    "  # iterate through each row\n",
    "  for i in range(m):\n",
    "    # get the size of the i-th row\n",
    "    n = len(A[i])\n",
    "    # then iterate the row\n",
    "    for j in range(n):\n",
    "      M[i][j] = A[i][j] + B[i][j]\n",
    "  \n",
    "  # return the final result\n",
    "  # never forget to RETURN the result of your computation!\n",
    "  return M"
   ]
  },
  {
   "cell_type": "markdown",
   "metadata": {
    "id": "iQ6CfUG1UmmX"
   },
   "source": [
    "We have defined a _function_ `matrix_add` that takes two arguments, $A$ and $B$, which should be matrices of the same size, and _returns_ the result of the addition. We can run the function to check if our function is correct:"
   ]
  },
  {
   "cell_type": "code",
   "execution_count": 6,
   "metadata": {
    "colab": {
     "base_uri": "https://localhost:8080/",
     "height": 57
    },
    "id": "7r6huvDmUl8f",
    "outputId": "0f362714-dbca-4ce3-d5b5-07abf70ac2e9"
   },
   "outputs": [
    {
     "data": {
      "text/plain": [
       "array([[ 3.,  5.,  7.],\n",
       "       [ 9., 11., 13.]])"
      ]
     },
     "execution_count": 6,
     "metadata": {},
     "output_type": "execute_result"
    }
   ],
   "source": [
    "A = np.array([[1, 2, 3],\n",
    "              [4, 5, 6]])\n",
    "B = np.array([[2, 3, 4, 4],\n",
    "              [5, 6, 7, 4],\n",
    "              [4, 6, 7, 5]])\n",
    "\n",
    "matrix_add(A, B)"
   ]
  },
  {
   "cell_type": "markdown",
   "metadata": {
    "id": "vMZA7idOVRKj"
   },
   "source": [
    "However, there is a flaw in this function! If we give it two matrices of different sizes, the function will fail mysteriously. Try changing the code above to observe what happens. For this reason, we might want to check beforehand that $A$ and $B$ have the same dimensions, and if they do not, we want to be informed that the input is invalid. To do this, we can use a _conditional statement_ to check if they have the same dimensions, and _throw an exception_ if they do not:"
   ]
  },
  {
   "cell_type": "code",
   "execution_count": 153,
   "metadata": {
    "id": "sry171hSWE2D"
   },
   "outputs": [],
   "source": [
    "def matrix_add_improved(A, B):\n",
    "  # check that A and B have the same shape\n",
    "  if (A.shape != B.shape):\n",
    "    # if not, then raise an exception\n",
    "    raise Exception(\"Cannot add matrices of different dimensions!\")\n",
    "\n",
    "  M = np.empty(A.shape)\n",
    "  m = len(A)\n",
    "  for i in range(m):\n",
    "    n = len(A[i])\n",
    "    for j in range(n):\n",
    "      M[i][j] = A[i][j] + B[i][j]\n",
    "  \n",
    "  return M"
   ]
  },
  {
   "cell_type": "markdown",
   "metadata": {
    "id": "6PdDsDgLWUxn"
   },
   "source": [
    "Now, when we attempt to add matrices of different dimensions, we will receive an error that tells us precisely so:"
   ]
  },
  {
   "cell_type": "code",
   "execution_count": 8,
   "metadata": {
    "colab": {
     "base_uri": "https://localhost:8080/",
     "height": 364
    },
    "id": "8lZ2nR8eWjUK",
    "outputId": "6fb215d0-910a-4cdd-a912-b8399d45b666"
   },
   "outputs": [
    {
     "data": {
      "text/plain": [
       "array([[2., 4., 7.]])"
      ]
     },
     "execution_count": 8,
     "metadata": {},
     "output_type": "execute_result"
    }
   ],
   "source": [
    "A = np.array([[1, 2, 4]])\n",
    "B = np.array([[1, 2, 3]])\n",
    "\n",
    "matrix_add_improved(A, B)"
   ]
  },
  {
   "cell_type": "markdown",
   "metadata": {
    "id": "EuS0zjyVWzAV"
   },
   "source": [
    "That's much better! Generally we do not require that you add such \"sanity checks\" in your programs for this course, but it could never hurt you (and often help you) to do so. In this assignment, we ask you to check for dimensional errors to familiarize you with Python."
   ]
  },
  {
   "cell_type": "markdown",
   "metadata": {
    "id": "oCdjl4W_XPQG"
   },
   "source": [
    "Next, it is your turn to do some things!"
   ]
  },
  {
   "cell_type": "markdown",
   "metadata": {
    "id": "zzPC7Kf5XR2l"
   },
   "source": [
    "## Exercise 0: find the transpose of a matrix\n",
    "Given a matrix $A$, its transpose $A^T$ is just the matrix \"rotated 90 degrees\". In other words, $A^T[i, j] = A[j, i]$. Now, write a Python function to find the transpose of a given matrix. \n",
    "(Hint: what is the dimension of the transpose of a $m \\times n$ matrix?)\n",
    "\n",
    "This exercise is intended as a warm-up, so if you are already quite familiar with Python, you may skip it. If you are not, then you are strongly adviced to attempt it!"
   ]
  },
  {
   "cell_type": "code",
   "execution_count": 154,
   "metadata": {
    "id": "Vi0ENCHJX2U0"
   },
   "outputs": [],
   "source": [
    "# LONG WAY\n",
    "def transpose(A):\n",
    "    i = len(A)\n",
    "    j = len(A[0])\n",
    "    m = np.zeros(shape=(j, i))\n",
    "    for x in range(i):\n",
    "#         j = len(A[x])\n",
    "        for y in range(j):\n",
    "#             print(i, j)\n",
    "            m[y][x] = A[x][y]\n",
    "    return m\n",
    "\n",
    "# SHORT WAY\n",
    "def transpose2(A):\n",
    "    m = np.transpose(A)\n",
    "    return m\n",
    "\n",
    "# i left the notes within the loops because there was a bad habit that I usually do \n",
    "# when making loops in python. It just serves as a reminder for myself. May ignore."
   ]
  },
  {
   "cell_type": "code",
   "execution_count": 7,
   "metadata": {},
   "outputs": [
    {
     "name": "stdout",
     "output_type": "stream",
     "text": [
      "[[1.  4. ]\n",
      " [2.3 5. ]\n",
      " [3.  4. ]]\n",
      "[[1]\n",
      " [2]\n",
      " [3]]\n",
      "[[1. 2. 3.]]\n",
      "[[1. 3.]\n",
      " [2. 4.]]\n"
     ]
    }
   ],
   "source": [
    "mat = np.array([[1,2.3,3],\n",
    "                [4,5,4]])\n",
    "mat2 = np.array([[1,2,3]])\n",
    "mat3 = np.array([[1],[2],[3]])\n",
    "mat4 = np.array([[1,2],\n",
    "                 [3,4]])\n",
    "\n",
    "print(transpose(mat))\n",
    "print(transpose2(mat2))\n",
    "print(transpose(mat3))\n",
    "print(transpose(mat4))"
   ]
  },
  {
   "cell_type": "markdown",
   "metadata": {
    "id": "n48sdWg4X6Xn"
   },
   "source": [
    "## Exercise 1: multiplying two matrices\n",
    "Again, this is something you learned in your linear algebra class. Given two matrices $A$ and $B$, write a function that multiplies them.\n",
    "\n",
    "The textbook method to multiply to matrices is sufficient, although this is not the most efficient way. If you have a lot of programming experience, you can try to implement some sort of \"fast matrix multiplication\", such as [Strassen's algorithm](https://en.wikipedia.org/wiki/Strassen_algorithm).\n",
    "\n",
    "(Hint: again, pay attention to the dimensions!)"
   ]
  },
  {
   "cell_type": "code",
   "execution_count": 155,
   "metadata": {
    "id": "EIe_enf3YVEx"
   },
   "outputs": [],
   "source": [
    "def matrix_multiply(A, B):\n",
    "    i = len(A)\n",
    "    j = len(A[0])\n",
    "    k = len(B)\n",
    "    l = len(B[0])\n",
    "    if(j!=k):\n",
    "        raise Exception (\"revise matrices\")\n",
    "    \n",
    "    m = np.zeros(shape=(i,l))\n",
    "    for a in range(i):\n",
    "#         print(\"a=\", a)\n",
    "        for d in range(l):\n",
    "#             print(\"d=\", d)\n",
    "            for c in range(k):\n",
    "#                 print(\"c=\", c)\n",
    "                m[a][d] = (A[a][c]*B[c][d]) + m[a][d]\n",
    "    \n",
    "    return m\n",
    "                "
   ]
  },
  {
   "cell_type": "markdown",
   "metadata": {
    "id": "CrEzUCnyZXGN"
   },
   "source": [
    "In fact, NumPy already provides us with a lot of the basic functions required to work with matrices (such as adding, subtracting and multiplying matrices). [Here](https://s3.amazonaws.com/assets.datacamp.com/blog_assets/Numpy_Python_Cheat_Sheet.pdf) you can find a brief guide to all of them. From now on you may use all the matrix manipulating (and linear algebraic) functions in NumPy freely."
   ]
  },
  {
   "cell_type": "code",
   "execution_count": 12,
   "metadata": {},
   "outputs": [
    {
     "name": "stdout",
     "output_type": "stream",
     "text": [
      "[[ 22.  28.]\n",
      " [ 49.  64.]\n",
      " [ 76. 100.]]\n",
      "[[14.]\n",
      " [32.]\n",
      " [50.]]\n"
     ]
    }
   ],
   "source": [
    "A = np.array([[1,2,3],\n",
    "              [4,5,6],\n",
    "              [7,8,9]])\n",
    "B = np.array([[1,2],\n",
    "              [3,4],\n",
    "              [5,6]])\n",
    "C = np.array([[1],[2],[3]])\n",
    "\n",
    "print(matrix_multiply(A,B))\n",
    "print(matrix_multiply(A,C))"
   ]
  },
  {
   "cell_type": "markdown",
   "metadata": {
    "id": "VRKe2zuGMI27"
   },
   "source": [
    "## Example 2: linear systems of equations\n",
    "A linear system of $m$ equations and $n$ unknowns can be expressed as $Ax = B$, where $A$ is a $m \\times n$ matrix. For example, the system\n",
    "$$\n",
    "3x + 2y - z = 12\\\\\n",
    "x - y + 3z = 1\\\\\n",
    "4x - y + 2z = 5\n",
    "$$\n",
    "can be expressed in matrix form as\n",
    "$$\n",
    "\\begin{bmatrix}\n",
    "3 & 2 & -1\\\\\n",
    "1 & -1 & 3\\\\\n",
    "4 & -1 & 2\n",
    "\\end{bmatrix}\n",
    "\\begin{bmatrix}\n",
    "x \\\\ y \\\\ z\n",
    "\\end{bmatrix} =\n",
    "\\begin{bmatrix}\n",
    "12 \\\\ 1 \\\\ 5\n",
    "\\end{bmatrix}.\n",
    "$$"
   ]
  },
  {
   "cell_type": "markdown",
   "metadata": {
    "id": "MhBJnyHpOOYV"
   },
   "source": [
    "Then, we can use the function `np.linalg.solve` to solve a linear system of equations in matrix form. From linear algebra class, you know that $A$ must be a square matrix of full rank for the system to have an exact solution. We can use the function `np.linalg.matrix_rank` to confirm this:"
   ]
  },
  {
   "cell_type": "code",
   "execution_count": 13,
   "metadata": {
    "colab": {
     "base_uri": "https://localhost:8080/",
     "height": 37
    },
    "id": "y5PhIzePOylS",
    "outputId": "47eb8834-903d-44f5-f1ec-281d69aacde5"
   },
   "outputs": [
    {
     "data": {
      "text/plain": [
       "3"
      ]
     },
     "execution_count": 13,
     "metadata": {},
     "output_type": "execute_result"
    }
   ],
   "source": [
    "A = np.array([[3, 2, -1],\n",
    "              [1, -1, 3],\n",
    "              [4, -1, 2]])\n",
    "\n",
    "np.linalg.matrix_rank(A)"
   ]
  },
  {
   "cell_type": "markdown",
   "metadata": {
    "id": "o349QkrTPEMp"
   },
   "source": [
    "Then, we can solve the system of equations:"
   ]
  },
  {
   "cell_type": "code",
   "execution_count": 14,
   "metadata": {
    "colab": {
     "base_uri": "https://localhost:8080/",
     "height": 37
    },
    "id": "uFQaGCjANj5d",
    "outputId": "066bce4f-a1c4-44c5-be38-b1a29c65aba9"
   },
   "outputs": [
    {
     "data": {
      "text/plain": [
       "array([1.7, 4. , 1.1])"
      ]
     },
     "execution_count": 14,
     "metadata": {},
     "output_type": "execute_result"
    }
   ],
   "source": [
    "B = np.array([12, 1, 5])\n",
    " \n",
    "np.linalg.solve(A, B)"
   ]
  },
  {
   "cell_type": "markdown",
   "metadata": {
    "id": "fK0lN05nPOqs"
   },
   "source": [
    "## Exercise 2: linear regression\n",
    "Let $A$ be a $m\\times n$-matrix and $y\\in \\mathbb{R}^m$.\n",
    "We learned that the \"best\" solution of a linear system $A \\theta = y$ (which might not have exact solutions) is given by the solution of $$(A^T A) \\theta = A^T y$$\n",
    "This solution for $\\theta$ minimizes $||A\\theta - y||$. If the columns of $A$ are linearly independet (which is usually the case in real life applications), then the $n\\times n$-matrix $A^T A$ has full rank, i.e. is invertible and the above euqation can be solved exaclty. \n",
    "\n",
    "**2.1** Implement a function `best_solution(A,y)` which takes as an input a matrix $A$ and a vector $y$ as above and which outputs a vector $\\theta \\in \\mathbb{R}^n$, which is the solution of $(A^T A) \\theta = A^T y$. Use the function `np.linalg.solve` for this."
   ]
  },
  {
   "cell_type": "code",
   "execution_count": 156,
   "metadata": {
    "id": "BbPaMt1lWt2r"
   },
   "outputs": [],
   "source": [
    "def best_solution(A, y):  \n",
    "    At = np.transpose(A)\n",
    "    AtA = matrix_multiply(At, A)\n",
    "    Aty = matrix_multiply(At, y)\n",
    "#     print(\"AtA =\")\n",
    "#     print(AtA)\n",
    "#     print(\"Aty =\")\n",
    "#     print(Aty)\n",
    "    sol = np.linalg.solve(AtA, Aty)\n",
    "    return sol\n",
    "\n",
    "# def best_solution2(A, y):\n",
    "#     At = np.transpose(A)\n",
    "#     AtA = np.cross(At, A)\n",
    "#     Aty = np.cross(At, y)\n",
    "#     sol = np.linalg.solve(AtA, Aty)\n",
    "    \n",
    "#     return sol"
   ]
  },
  {
   "cell_type": "markdown",
   "metadata": {
    "id": "m8KhvDF1XkSV"
   },
   "source": [
    "**2.2** Let us consider again the training example of the Tebaski example:"
   ]
  },
  {
   "cell_type": "code",
   "execution_count": 237,
   "metadata": {
    "id": "g2uNy8O4XhfL"
   },
   "outputs": [
    {
     "data": {
      "text/plain": [
       "Text(0, 0.5, 'Tebasaki eaten')"
      ]
     },
     "execution_count": 237,
     "metadata": {},
     "output_type": "execute_result"
    },
    {
     "data": {
      "image/png": "[encoded data removed]",
      "text/plain": [
       "<Figure size 432x288 with 1 Axes>"
      ]
     },
     "metadata": {
      "needs_background": "light"
     },
     "output_type": "display_data"
    }
   ],
   "source": [
    "# Training set\n",
    "Tx = np.array([[2, 7, 13, 16, 22, 27]])\n",
    "Ty = np.array([[5, 20, 14, 32, 22, 38]])\n",
    "\n",
    "# Draw the Training set\n",
    "# plt.figure(figsize=(10,8))\n",
    "plt.plot(Tx.ravel(),Ty.ravel(),'X')\n",
    "plt.title(\"Training set\", fontsize =20)\n",
    "plt.xlabel(\"Weeks living in Nagoya\", fontsize=18)\n",
    "plt.ylabel(\"Tebasaki eaten\", fontsize=18)"
   ]
  },
  {
   "cell_type": "markdown",
   "metadata": {
    "id": "6XnPl70ZXyzn"
   },
   "source": [
    "Write a function `best_fit(Tx,Ty)` which returns a vector $\\theta = \\begin{pmatrix} \\theta_0 \\\\ \\theta_1 \\end{pmatrix}$, such that the hypothesis $h(x) = \\theta_0 + \\theta_1 x$ is the best fit for our trainings set. For this create the corresponding matrix $A$ and vector $y$ from the training set Tx and Ty and use your function `best_solution(A,y)` from 2.1. "
   ]
  },
  {
   "cell_type": "code",
   "execution_count": 238,
   "metadata": {
    "id": "Bs7HCxPHXyON"
   },
   "outputs": [],
   "source": [
    "def best_fit(Tx, Ty):\n",
    "    l = len(Tx[0])\n",
    "    ones = np.ones(shape=l)\n",
    "    A = np.vstack((ones, Tx))\n",
    "#     this is to add the row of 1's\n",
    "#     print(A)\n",
    "    \n",
    "    Txt = np.transpose(A)\n",
    "#     print(Txt)\n",
    "    Tyt = np.transpose(Ty)\n",
    "#     print(Tyt)\n",
    "    sol = best_solution(Txt, Tyt)\n",
    "    return sol\n",
    "\n",
    "# def best_fit2(Tx, Ty):\n",
    "#     Txt = np.transpose(Tx)\n",
    "#     Tyt = np.transpose(Ty)\n",
    "#     sol = best_solution2(Txt, Tyt)\n",
    "    \n",
    "#     return sol"
   ]
  },
  {
   "cell_type": "markdown",
   "metadata": {
    "id": "rAwRm2ROYVcv"
   },
   "source": [
    "Plot your result by using the following code:"
   ]
  },
  {
   "cell_type": "code",
   "execution_count": 239,
   "metadata": {
    "id": "JCC6dmNpYrb-"
   },
   "outputs": [
    {
     "name": "stdout",
     "output_type": "stream",
     "text": [
      "theta =\n",
      "[[6.48932868]\n",
      " [1.05820722]]\n"
     ]
    },
    {
     "data": {
      "image/png": "[encoded data removed]",
      "text/plain": [
       "<Figure size 432x288 with 1 Axes>"
      ]
     },
     "metadata": {
      "needs_background": "light"
     },
     "output_type": "display_data"
    }
   ],
   "source": [
    "# Draw the Training set\n",
    "# plt.figure(figsize=(10,8))\n",
    "plt.plot(Tx.ravel(),Ty.ravel(),'X')\n",
    "plt.title(\"Training set\", fontsize =20)\n",
    "plt.xlabel(\"Weeks living in Nagoya\", fontsize=18)\n",
    "plt.ylabel(\"Tebasaki eaten\", fontsize=18)\n",
    "\n",
    "# Best fit (by using your own function best_fit)\n",
    "# Training set\n",
    "theta = best_fit(Tx, Ty)\n",
    "print(\"theta =\")\n",
    "print(theta)\n",
    "t0 = theta[0][0]\n",
    "t1 = theta[1][0]\n",
    "# print(t0, t1)\n",
    "\n",
    "plt.plot(Tx.ravel(), t0 + t1*Tx.ravel())\n",
    "plt.show()\n",
    "\n"
   ]
  },
  {
   "cell_type": "code",
   "execution_count": 25,
   "metadata": {},
   "outputs": [],
   "source": [
    "# NOTES:\n",
    "# This code that I wrote specifically works for matrices that are in the \"double bracket\" numpy.array form,\n",
    "# instead of single bracket. (e.g., double bracket: np.array([[1,2,3]]), while single bracket: np([1,2,3]) ).\n",
    "# It is because of the specification of len(A[i]) (or any matrices); and single bracket numpy\n",
    "# array cannot decipher this sort of len command."
   ]
  },
  {
   "cell_type": "markdown",
   "metadata": {
    "id": "rA9b6YO2Y-4R"
   },
   "source": [
    "**2.3 (Bonus - Polynom interpolation)** Extend your function in 2.2 to also allow a parameter $d$ (the degree). The function should return a vector $\\theta=\\begin{pmatrix} \\theta_0 \\\\ \\vdots \\\\ \\theta_d \\end{pmatrix}$, such that the hypothesis $h(x) = \\theta_0 + \\theta_1 x + \\dots + \\theta_d x^d$ gives an interpolation of the trainings set. \n",
    "\n",
    "(This function is already implemente in numpy as `np.polyfit(Tx, Ty, d)`, but you should just use your function `best_solution(A,y)` again. If you want to have a 100% self written implementation, then you can also write your own version of `np.linalg.solve` for the use in `best_solution(A,y)`, by implementing the Gaussian elimination algorithm.)"
   ]
  },
  {
   "cell_type": "code",
   "execution_count": 200,
   "metadata": {
    "id": "YMZmeEqFZcOr"
   },
   "outputs": [],
   "source": [
    "def best_fit_poly(Tx, Ty,d):\n",
    "    l = len(Tx[0])\n",
    "    ones = np.ones(shape=l)\n",
    "    A = np.vstack((ones, Tx))    \n",
    "#     app_mat = np.zeros(shape=(d-1, l))\n",
    "    \n",
    "    if d == 1:\n",
    "        Txt = np.transpose(A)\n",
    "        Tyt = np.transpose(Ty)\n",
    "        sol = best_solution(Txt, Tyt)\n",
    "    \n",
    "    elif d == 0:\n",
    "        Txt = np.transpose(Tx)\n",
    "        Tyt = np.transpose(Ty)\n",
    "        sol = best_solution(Txt, Tyt)\n",
    "        \n",
    "    else:\n",
    "        app_mat = np.zeros(shape=(d-1, l))\n",
    "        for i in range(0, d-1):\n",
    "            for j in range(l):\n",
    "                app_mat[i][j] = (Tx[0][j] ** (i+2))\n",
    "\n",
    "        new_Tx = np.vstack((A, app_mat))\n",
    "#         print(new_Tx)\n",
    "        Txt = np.transpose(new_Tx)\n",
    "        Tyt = np.transpose(Ty)\n",
    "        sol = best_solution(Txt, Tyt)\n",
    "        \n",
    "    return np.transpose(sol)"
   ]
  },
  {
   "cell_type": "code",
   "execution_count": 247,
   "metadata": {},
   "outputs": [
    {
     "name": "stdout",
     "output_type": "stream",
     "text": [
      "           5           4         3         2\n",
      "0.0007825 x - 0.05646 x + 1.475 x - 16.85 x + 80.11 x - 98.75\n"
     ]
    },
    {
     "data": {
      "text/plain": [
       "[<matplotlib.lines.Line2D at 0x7f92b6375520>]"
      ]
     },
     "execution_count": 247,
     "metadata": {},
     "output_type": "execute_result"
    },
    {
     "data": {
      "image/png": "[encoded data removed]",
      "text/plain": [
       "<Figure size 432x288 with 1 Axes>"
      ]
     },
     "metadata": {
      "needs_background": "light"
     },
     "output_type": "display_data"
    }
   ],
   "source": [
    "# Training set\n",
    "Tx = np.array([[2, 7, 13, 16, 22, 27]])\n",
    "Ty = np.array([[5, 20, 14, 32, 22, 38]])\n",
    "\n",
    "theta_d = best_fit_poly(Tx, Ty, 5)\n",
    "theta_d = theta_d.ravel()\n",
    "\n",
    "Tx = Tx.ravel()\n",
    "Ty = Ty.ravel()\n",
    "plt.plot(Tx,Ty,'X')\n",
    "\n",
    "nTx = np.linspace(Tx[0], Tx[len(Tx)-1], 100)\n",
    "poly = np.poly1d(theta_d[::-1])\n",
    "print(poly)\n",
    "plt.plot(nTx, poly(nTx))"
   ]
  },
  {
   "cell_type": "code",
   "execution_count": null,
   "metadata": {},
   "outputs": [],
   "source": []
  }
 ],
 "metadata": {
  "colab": {
   "collapsed_sections": [],
   "include_colab_link": true,
   "name": "Assignment1.ipynb",
   "provenance": []
  },
  "kernelspec": {
   "display_name": "Python 3",
   "language": "python",
   "name": "python3"
  },
  "language_info": {
   "codemirror_mode": {
    "name": "ipython",
    "version": 3
   },
   "file_extension": ".py",
   "mimetype": "text/x-python",
   "name": "python",
   "nbconvert_exporter": "python",
   "pygments_lexer": "ipython3",
   "version": "3.8.3"
  }
 },
 "nbformat": 4,
 "nbformat_minor": 1
}
